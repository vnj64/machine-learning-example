{
 "cells": [
  {
   "cell_type": "code",
   "execution_count": 16,
   "metadata": {
    "tags": [],
    "ExecuteTime": {
     "end_time": "2023-11-01T14:21:28.231185813Z",
     "start_time": "2023-11-01T14:21:28.167657671Z"
    }
   },
   "outputs": [],
   "source": [
    "import pandas as pd\n",
    "import numpy as np\n",
    "import matplotlib.pyplot as plt\n",
    "import seaborn as sns\n",
    "import numpy as np\n",
    "from sklearn.preprocessing import StandardScaler, MinMaxScaler\n",
    "from sklearn.preprocessing import PowerTransformer\n",
    "\n",
    "from sklearn.preprocessing import OneHotEncoder\n",
    "from sklearn.preprocessing import OrdinalEncoder\n",
    "\n",
    "from sklearn.pipeline import Pipeline\n",
    "\n",
    "from sklearn.compose import ColumnTransformer\n",
    "\n",
    "from sklearn.base import BaseEstimator, TransformerMixin\n",
    "\n",
    "from sklearn.model_selection import train_test_split\n",
    "from sklearn.linear_model import LinearRegression\n",
    "from sklearn.metrics import mean_squared_error\n",
    "from sklearn.ensemble import RandomForestRegressor"
   ]
  },
  {
   "cell_type": "code",
   "execution_count": 17,
   "metadata": {
    "collapsed": false,
    "jupyter": {
     "outputs_hidden": false
    },
    "ExecuteTime": {
     "end_time": "2023-11-01T14:21:29.804029806Z",
     "start_time": "2023-11-01T14:21:28.211307532Z"
    }
   },
   "outputs": [
    {
     "data": {
      "text/plain": "     Index  Organization Id                       Name  \\\n0        1  E84A904909dF528                 Liu-Hoover   \n1        2  AAC4f9aBF86EAeF              Orr-Armstrong   \n2        3  ad2eb3C8C24DB87                  Gill-Lamb   \n3        4  D76BB12E5eE165B                Bauer-Weiss   \n4        5  2F31EddF2Db9aAE                Love-Palmer   \n..     ...              ...                        ...   \n995    996  e5CEc38aa9A580b              Bullock Group   \n996    997  cEF9B4675E4bBd0                  Mason Inc   \n997    998  9abEb8aaFd25E04           Houston and Sons   \n998    999  de5Fc71DE825bFc              Olson-Solomon   \n999   1000  3ddb89ecD83B533  Maddox, Owen and Shepherd   \n\n                          Website                   Country  \\\n0     http://www.day-hartman.org/            Western Sahara   \n1        https://www.chapman.net/                   Algeria   \n2                 http://lin.com/             Cote d'Ivoire   \n3    https://gillespie-stout.com/  United States of America   \n4             https://kramer.com/                   Denmark   \n..                            ...                       ...   \n995   https://medina-bernard.com/              Turkmenistan   \n996     https://franco-walls.com/  United States of America   \n997             http://mcgee.com/                     Kenya   \n998             https://koch.com/   Cocos (Keeling) Islands   \n999     https://www.hamilton.com/                    Guinea   \n\n                                      Description  Founded  \\\n0    Ergonomic zero administration knowledge user     1980   \n1          Ergonomic radical budgetary management     1970   \n2        Programmable intermediate conglomeration     2005   \n3                Synergistic maximized definition     2015   \n4                  Optimized optimizing moderator     2010   \n..                                            ...      ...   \n995            Public-key scalable conglomeration     1998   \n996                Distributed exuding initiative     2015   \n997            Stand-alone multi-state neural-net     1981   \n998                  Virtual responsive moderator     2013   \n999        Reactive bottom-line pricing structure     2019   \n\n                         Industry  Number of employees  \n0               Online Publishing                 6852  \n1                 Import / Export                 7994  \n2               Apparel / Fashion                 5105  \n3                           Dairy                 9069  \n4           Management Consulting                 6991  \n..                            ...                  ...  \n995                Wine / Spirits                 6547  \n996               Law Enforcement                 9723  \n997   Civic / Social Organization                 5355  \n998  Investment Banking / Venture                 3825  \n999                     Animation                 4467  \n\n[1000 rows x 9 columns]",
      "text/html": "<div>\n<style scoped>\n    .dataframe tbody tr th:only-of-type {\n        vertical-align: middle;\n    }\n\n    .dataframe tbody tr th {\n        vertical-align: top;\n    }\n\n    .dataframe thead th {\n        text-align: right;\n    }\n</style>\n<table border=\"1\" class=\"dataframe\">\n  <thead>\n    <tr style=\"text-align: right;\">\n      <th></th>\n      <th>Index</th>\n      <th>Organization Id</th>\n      <th>Name</th>\n      <th>Website</th>\n      <th>Country</th>\n      <th>Description</th>\n      <th>Founded</th>\n      <th>Industry</th>\n      <th>Number of employees</th>\n    </tr>\n  </thead>\n  <tbody>\n    <tr>\n      <th>0</th>\n      <td>1</td>\n      <td>E84A904909dF528</td>\n      <td>Liu-Hoover</td>\n      <td>http://www.day-hartman.org/</td>\n      <td>Western Sahara</td>\n      <td>Ergonomic zero administration knowledge user</td>\n      <td>1980</td>\n      <td>Online Publishing</td>\n      <td>6852</td>\n    </tr>\n    <tr>\n      <th>1</th>\n      <td>2</td>\n      <td>AAC4f9aBF86EAeF</td>\n      <td>Orr-Armstrong</td>\n      <td>https://www.chapman.net/</td>\n      <td>Algeria</td>\n      <td>Ergonomic radical budgetary management</td>\n      <td>1970</td>\n      <td>Import / Export</td>\n      <td>7994</td>\n    </tr>\n    <tr>\n      <th>2</th>\n      <td>3</td>\n      <td>ad2eb3C8C24DB87</td>\n      <td>Gill-Lamb</td>\n      <td>http://lin.com/</td>\n      <td>Cote d'Ivoire</td>\n      <td>Programmable intermediate conglomeration</td>\n      <td>2005</td>\n      <td>Apparel / Fashion</td>\n      <td>5105</td>\n    </tr>\n    <tr>\n      <th>3</th>\n      <td>4</td>\n      <td>D76BB12E5eE165B</td>\n      <td>Bauer-Weiss</td>\n      <td>https://gillespie-stout.com/</td>\n      <td>United States of America</td>\n      <td>Synergistic maximized definition</td>\n      <td>2015</td>\n      <td>Dairy</td>\n      <td>9069</td>\n    </tr>\n    <tr>\n      <th>4</th>\n      <td>5</td>\n      <td>2F31EddF2Db9aAE</td>\n      <td>Love-Palmer</td>\n      <td>https://kramer.com/</td>\n      <td>Denmark</td>\n      <td>Optimized optimizing moderator</td>\n      <td>2010</td>\n      <td>Management Consulting</td>\n      <td>6991</td>\n    </tr>\n    <tr>\n      <th>...</th>\n      <td>...</td>\n      <td>...</td>\n      <td>...</td>\n      <td>...</td>\n      <td>...</td>\n      <td>...</td>\n      <td>...</td>\n      <td>...</td>\n      <td>...</td>\n    </tr>\n    <tr>\n      <th>995</th>\n      <td>996</td>\n      <td>e5CEc38aa9A580b</td>\n      <td>Bullock Group</td>\n      <td>https://medina-bernard.com/</td>\n      <td>Turkmenistan</td>\n      <td>Public-key scalable conglomeration</td>\n      <td>1998</td>\n      <td>Wine / Spirits</td>\n      <td>6547</td>\n    </tr>\n    <tr>\n      <th>996</th>\n      <td>997</td>\n      <td>cEF9B4675E4bBd0</td>\n      <td>Mason Inc</td>\n      <td>https://franco-walls.com/</td>\n      <td>United States of America</td>\n      <td>Distributed exuding initiative</td>\n      <td>2015</td>\n      <td>Law Enforcement</td>\n      <td>9723</td>\n    </tr>\n    <tr>\n      <th>997</th>\n      <td>998</td>\n      <td>9abEb8aaFd25E04</td>\n      <td>Houston and Sons</td>\n      <td>http://mcgee.com/</td>\n      <td>Kenya</td>\n      <td>Stand-alone multi-state neural-net</td>\n      <td>1981</td>\n      <td>Civic / Social Organization</td>\n      <td>5355</td>\n    </tr>\n    <tr>\n      <th>998</th>\n      <td>999</td>\n      <td>de5Fc71DE825bFc</td>\n      <td>Olson-Solomon</td>\n      <td>https://koch.com/</td>\n      <td>Cocos (Keeling) Islands</td>\n      <td>Virtual responsive moderator</td>\n      <td>2013</td>\n      <td>Investment Banking / Venture</td>\n      <td>3825</td>\n    </tr>\n    <tr>\n      <th>999</th>\n      <td>1000</td>\n      <td>3ddb89ecD83B533</td>\n      <td>Maddox, Owen and Shepherd</td>\n      <td>https://www.hamilton.com/</td>\n      <td>Guinea</td>\n      <td>Reactive bottom-line pricing structure</td>\n      <td>2019</td>\n      <td>Animation</td>\n      <td>4467</td>\n    </tr>\n  </tbody>\n</table>\n<p>1000 rows × 9 columns</p>\n</div>"
     },
     "execution_count": 17,
     "metadata": {},
     "output_type": "execute_result"
    }
   ],
   "source": [
    "df = pd.read_csv('https://media.githubusercontent.com/media/datablist/sample-csv-files/main/files/organizations/organizations-1000.csv',  delimiter = ',')\n",
    "df"
   ]
  },
  {
   "cell_type": "code",
   "execution_count": 18,
   "metadata": {
    "collapsed": false,
    "jupyter": {
     "outputs_hidden": false
    },
    "ExecuteTime": {
     "end_time": "2023-11-01T14:21:29.920241723Z",
     "start_time": "2023-11-01T14:21:29.812692989Z"
    }
   },
   "outputs": [
    {
     "name": "stdout",
     "output_type": "stream",
     "text": [
      "<class 'pandas.core.frame.DataFrame'>\n",
      "RangeIndex: 1000 entries, 0 to 999\n",
      "Data columns (total 9 columns):\n",
      " #   Column               Non-Null Count  Dtype \n",
      "---  ------               --------------  ----- \n",
      " 0   Index                1000 non-null   int64 \n",
      " 1   Organization Id      1000 non-null   object\n",
      " 2   Name                 1000 non-null   object\n",
      " 3   Website              1000 non-null   object\n",
      " 4   Country              1000 non-null   object\n",
      " 5   Description          1000 non-null   object\n",
      " 6   Founded              1000 non-null   int64 \n",
      " 7   Industry             1000 non-null   object\n",
      " 8   Number of employees  1000 non-null   int64 \n",
      "dtypes: int64(3), object(6)\n",
      "memory usage: 70.4+ KB\n"
     ]
    }
   ],
   "source": [
    "df.info()"
   ]
  },
  {
   "cell_type": "code",
   "execution_count": 19,
   "metadata": {
    "collapsed": false,
    "jupyter": {
     "outputs_hidden": false
    },
    "ExecuteTime": {
     "end_time": "2023-11-01T14:21:29.921113203Z",
     "start_time": "2023-11-01T14:21:29.855293588Z"
    }
   },
   "outputs": [
    {
     "data": {
      "text/plain": "             Index      Founded  Number of employees\ncount  1000.000000  1000.000000          1000.000000\nmean    500.500000  1995.852000          4964.996000\nstd     288.819436    15.096026          2812.789035\nmin       1.000000  1970.000000             1.000000\n25%     250.750000  1983.000000          2612.000000\n50%     500.500000  1996.000000          4941.000000\n75%     750.250000  2009.000000          7348.250000\nmax    1000.000000  2022.000000          9952.000000",
      "text/html": "<div>\n<style scoped>\n    .dataframe tbody tr th:only-of-type {\n        vertical-align: middle;\n    }\n\n    .dataframe tbody tr th {\n        vertical-align: top;\n    }\n\n    .dataframe thead th {\n        text-align: right;\n    }\n</style>\n<table border=\"1\" class=\"dataframe\">\n  <thead>\n    <tr style=\"text-align: right;\">\n      <th></th>\n      <th>Index</th>\n      <th>Founded</th>\n      <th>Number of employees</th>\n    </tr>\n  </thead>\n  <tbody>\n    <tr>\n      <th>count</th>\n      <td>1000.000000</td>\n      <td>1000.000000</td>\n      <td>1000.000000</td>\n    </tr>\n    <tr>\n      <th>mean</th>\n      <td>500.500000</td>\n      <td>1995.852000</td>\n      <td>4964.996000</td>\n    </tr>\n    <tr>\n      <th>std</th>\n      <td>288.819436</td>\n      <td>15.096026</td>\n      <td>2812.789035</td>\n    </tr>\n    <tr>\n      <th>min</th>\n      <td>1.000000</td>\n      <td>1970.000000</td>\n      <td>1.000000</td>\n    </tr>\n    <tr>\n      <th>25%</th>\n      <td>250.750000</td>\n      <td>1983.000000</td>\n      <td>2612.000000</td>\n    </tr>\n    <tr>\n      <th>50%</th>\n      <td>500.500000</td>\n      <td>1996.000000</td>\n      <td>4941.000000</td>\n    </tr>\n    <tr>\n      <th>75%</th>\n      <td>750.250000</td>\n      <td>2009.000000</td>\n      <td>7348.250000</td>\n    </tr>\n    <tr>\n      <th>max</th>\n      <td>1000.000000</td>\n      <td>2022.000000</td>\n      <td>9952.000000</td>\n    </tr>\n  </tbody>\n</table>\n</div>"
     },
     "execution_count": 19,
     "metadata": {},
     "output_type": "execute_result"
    }
   ],
   "source": [
    "df.describe()"
   ]
  },
  {
   "cell_type": "code",
   "execution_count": 20,
   "metadata": {
    "collapsed": false,
    "jupyter": {
     "outputs_hidden": false
    },
    "ExecuteTime": {
     "end_time": "2023-11-01T14:21:29.957430322Z",
     "start_time": "2023-11-01T14:21:29.856115760Z"
    }
   },
   "outputs": [
    {
     "data": {
      "text/plain": "(1000, 9)"
     },
     "execution_count": 20,
     "metadata": {},
     "output_type": "execute_result"
    }
   ],
   "source": [
    "# Проверка на наличие дубликатов и возможное изменение размера.\n",
    "df = df.drop_duplicates()\n",
    "df.shape"
   ]
  },
  {
   "cell_type": "code",
   "execution_count": 21,
   "metadata": {
    "collapsed": false,
    "jupyter": {
     "outputs_hidden": false
    },
    "ExecuteTime": {
     "end_time": "2023-11-01T14:21:29.958038430Z",
     "start_time": "2023-11-01T14:21:29.899225363Z"
    }
   },
   "outputs": [
    {
     "data": {
      "text/plain": "     Index  Organization Id                       Name  \\\n0        1  E84A904909dF528                 Liu-Hoover   \n1        2  AAC4f9aBF86EAeF              Orr-Armstrong   \n2        3  ad2eb3C8C24DB87                  Gill-Lamb   \n3        4  D76BB12E5eE165B                Bauer-Weiss   \n4        5  2F31EddF2Db9aAE                Love-Palmer   \n..     ...              ...                        ...   \n995    996  e5CEc38aa9A580b              Bullock Group   \n996    997  cEF9B4675E4bBd0                  Mason Inc   \n997    998  9abEb8aaFd25E04           Houston and Sons   \n998    999  de5Fc71DE825bFc              Olson-Solomon   \n999   1000  3ddb89ecD83B533  Maddox, Owen and Shepherd   \n\n                          Website                   Country  \\\n0     http://www.day-hartman.org/            Western Sahara   \n1        https://www.chapman.net/                   Algeria   \n2                 http://lin.com/             Cote d'Ivoire   \n3    https://gillespie-stout.com/  United States of America   \n4             https://kramer.com/                   Denmark   \n..                            ...                       ...   \n995   https://medina-bernard.com/              Turkmenistan   \n996     https://franco-walls.com/  United States of America   \n997             http://mcgee.com/                     Kenya   \n998             https://koch.com/   Cocos (Keeling) Islands   \n999     https://www.hamilton.com/                    Guinea   \n\n                                      Description  Founded  \\\n0    Ergonomic zero administration knowledge user     1980   \n1          Ergonomic radical budgetary management     1970   \n2        Programmable intermediate conglomeration     2005   \n3                Synergistic maximized definition     2015   \n4                  Optimized optimizing moderator     2010   \n..                                            ...      ...   \n995            Public-key scalable conglomeration     1998   \n996                Distributed exuding initiative     2015   \n997            Stand-alone multi-state neural-net     1981   \n998                  Virtual responsive moderator     2013   \n999        Reactive bottom-line pricing structure     2019   \n\n                         Industry  Number of employees  \n0               Online Publishing                 6852  \n1                 Import / Export                 7994  \n2               Apparel / Fashion                 5105  \n3                           Dairy                 9069  \n4           Management Consulting                 6991  \n..                            ...                  ...  \n995                Wine / Spirits                 6547  \n996               Law Enforcement                 9723  \n997   Civic / Social Organization                 5355  \n998  Investment Banking / Venture                 3825  \n999                     Animation                 4467  \n\n[990 rows x 9 columns]",
      "text/html": "<div>\n<style scoped>\n    .dataframe tbody tr th:only-of-type {\n        vertical-align: middle;\n    }\n\n    .dataframe tbody tr th {\n        vertical-align: top;\n    }\n\n    .dataframe thead th {\n        text-align: right;\n    }\n</style>\n<table border=\"1\" class=\"dataframe\">\n  <thead>\n    <tr style=\"text-align: right;\">\n      <th></th>\n      <th>Index</th>\n      <th>Organization Id</th>\n      <th>Name</th>\n      <th>Website</th>\n      <th>Country</th>\n      <th>Description</th>\n      <th>Founded</th>\n      <th>Industry</th>\n      <th>Number of employees</th>\n    </tr>\n  </thead>\n  <tbody>\n    <tr>\n      <th>0</th>\n      <td>1</td>\n      <td>E84A904909dF528</td>\n      <td>Liu-Hoover</td>\n      <td>http://www.day-hartman.org/</td>\n      <td>Western Sahara</td>\n      <td>Ergonomic zero administration knowledge user</td>\n      <td>1980</td>\n      <td>Online Publishing</td>\n      <td>6852</td>\n    </tr>\n    <tr>\n      <th>1</th>\n      <td>2</td>\n      <td>AAC4f9aBF86EAeF</td>\n      <td>Orr-Armstrong</td>\n      <td>https://www.chapman.net/</td>\n      <td>Algeria</td>\n      <td>Ergonomic radical budgetary management</td>\n      <td>1970</td>\n      <td>Import / Export</td>\n      <td>7994</td>\n    </tr>\n    <tr>\n      <th>2</th>\n      <td>3</td>\n      <td>ad2eb3C8C24DB87</td>\n      <td>Gill-Lamb</td>\n      <td>http://lin.com/</td>\n      <td>Cote d'Ivoire</td>\n      <td>Programmable intermediate conglomeration</td>\n      <td>2005</td>\n      <td>Apparel / Fashion</td>\n      <td>5105</td>\n    </tr>\n    <tr>\n      <th>3</th>\n      <td>4</td>\n      <td>D76BB12E5eE165B</td>\n      <td>Bauer-Weiss</td>\n      <td>https://gillespie-stout.com/</td>\n      <td>United States of America</td>\n      <td>Synergistic maximized definition</td>\n      <td>2015</td>\n      <td>Dairy</td>\n      <td>9069</td>\n    </tr>\n    <tr>\n      <th>4</th>\n      <td>5</td>\n      <td>2F31EddF2Db9aAE</td>\n      <td>Love-Palmer</td>\n      <td>https://kramer.com/</td>\n      <td>Denmark</td>\n      <td>Optimized optimizing moderator</td>\n      <td>2010</td>\n      <td>Management Consulting</td>\n      <td>6991</td>\n    </tr>\n    <tr>\n      <th>...</th>\n      <td>...</td>\n      <td>...</td>\n      <td>...</td>\n      <td>...</td>\n      <td>...</td>\n      <td>...</td>\n      <td>...</td>\n      <td>...</td>\n      <td>...</td>\n    </tr>\n    <tr>\n      <th>995</th>\n      <td>996</td>\n      <td>e5CEc38aa9A580b</td>\n      <td>Bullock Group</td>\n      <td>https://medina-bernard.com/</td>\n      <td>Turkmenistan</td>\n      <td>Public-key scalable conglomeration</td>\n      <td>1998</td>\n      <td>Wine / Spirits</td>\n      <td>6547</td>\n    </tr>\n    <tr>\n      <th>996</th>\n      <td>997</td>\n      <td>cEF9B4675E4bBd0</td>\n      <td>Mason Inc</td>\n      <td>https://franco-walls.com/</td>\n      <td>United States of America</td>\n      <td>Distributed exuding initiative</td>\n      <td>2015</td>\n      <td>Law Enforcement</td>\n      <td>9723</td>\n    </tr>\n    <tr>\n      <th>997</th>\n      <td>998</td>\n      <td>9abEb8aaFd25E04</td>\n      <td>Houston and Sons</td>\n      <td>http://mcgee.com/</td>\n      <td>Kenya</td>\n      <td>Stand-alone multi-state neural-net</td>\n      <td>1981</td>\n      <td>Civic / Social Organization</td>\n      <td>5355</td>\n    </tr>\n    <tr>\n      <th>998</th>\n      <td>999</td>\n      <td>de5Fc71DE825bFc</td>\n      <td>Olson-Solomon</td>\n      <td>https://koch.com/</td>\n      <td>Cocos (Keeling) Islands</td>\n      <td>Virtual responsive moderator</td>\n      <td>2013</td>\n      <td>Investment Banking / Venture</td>\n      <td>3825</td>\n    </tr>\n    <tr>\n      <th>999</th>\n      <td>1000</td>\n      <td>3ddb89ecD83B533</td>\n      <td>Maddox, Owen and Shepherd</td>\n      <td>https://www.hamilton.com/</td>\n      <td>Guinea</td>\n      <td>Reactive bottom-line pricing structure</td>\n      <td>2019</td>\n      <td>Animation</td>\n      <td>4467</td>\n    </tr>\n  </tbody>\n</table>\n<p>990 rows × 9 columns</p>\n</div>"
     },
     "execution_count": 21,
     "metadata": {},
     "output_type": "execute_result"
    }
   ],
   "source": [
    "# Находим строки с числом сотрудников менее чем у 1% компаний, что может быть полезно для удаления выбросов или аномальных значений в данных.\n",
    "q = df['Number of employees'].quantile(0.99)\n",
    "df[df['Number of employees'] < q]"
   ]
  },
  {
   "cell_type": "code",
   "execution_count": 22,
   "metadata": {
    "ExecuteTime": {
     "end_time": "2023-11-01T14:21:30.221080854Z",
     "start_time": "2023-11-01T14:21:29.943084363Z"
    }
   },
   "outputs": [
    {
     "data": {
      "text/plain": "<Figure size 800x600 with 1 Axes>",
      "image/png": "[encoded data removed]"
     },
     "metadata": {},
     "output_type": "display_data"
    }
   ],
   "source": [
    "# Select only numeric columns\n",
    "numeric_df = df.select_dtypes(include=['number'])\n",
    "\n",
    "# Calculate correlations with the target variable 'Number of employees'\n",
    "correlations = numeric_df.corrwith(df['Number of employees'])\n",
    "\n",
    "# Create a heatmap for visualizing correlations\n",
    "plt.figure(figsize=(8, 6))\n",
    "plt.bar(correlations.index, correlations)\n",
    "plt.xticks(rotation=45)\n",
    "plt.xlabel('Признак')\n",
    "plt.ylabel('Корреляция с Number of employees')\n",
    "plt.show()\n"
   ]
  },
  {
   "cell_type": "code",
   "execution_count": 23,
   "metadata": {
    "ExecuteTime": {
     "end_time": "2023-11-01T14:21:30.221691965Z",
     "start_time": "2023-11-01T14:21:30.083052926Z"
    }
   },
   "outputs": [],
   "source": [
    "# Выделим числовые и категориальные признаки\n",
    "numerical_features = ['Founded', 'Number of employees']\n",
    "categorical_features = ['Organization Id', 'Name', 'Website', 'Country', 'Description', 'Industry']\n",
    "\n",
    "# Стандартизация числовых признаков\n",
    "scaler = StandardScaler()\n",
    "df[numerical_features] = scaler.fit_transform(df[numerical_features])\n",
    "\n",
    "# Нормализация числовых признаков (в диапазон от 0 до 1)\n",
    "min_max_scaler = MinMaxScaler()\n",
    "df[numerical_features] = min_max_scaler.fit_transform(df[numerical_features])\n",
    "\n",
    "# Кодирование категориальных признаков с использованием one-hot encoding\n",
    "df = pd.get_dummies(df, columns=categorical_features)\n",
    "\n",
    "# Наш датасет предобработан"
   ]
  },
  {
   "cell_type": "code",
   "execution_count": 24,
   "metadata": {
    "ExecuteTime": {
     "end_time": "2023-11-01T14:21:31.730436697Z",
     "start_time": "2023-11-01T14:21:30.084058781Z"
    }
   },
   "outputs": [
    {
     "name": "stdout",
     "output_type": "stream",
     "text": [
      "Среднеквадратичная ошибка: 0.08901104203381087\n"
     ]
    }
   ],
   "source": [
    "# Подготовка данных\n",
    "X = df.drop('Number of employees', axis=1)  # Признаки\n",
    "y = df['Number of employees']  # Целевая переменная\n",
    "\n",
    "# Разделение данных на обучающий и тестовый наборы\n",
    "X_train, X_test, y_train, y_test = train_test_split(X, y, test_size=0.2, random_state=42)\n",
    "\n",
    "# Выбор и обучение модели (например, линейная регрессия)\n",
    "model = LinearRegression()\n",
    "model.fit(X_train, y_train)\n",
    "\n",
    "# Предсказание на тестовом наборе\n",
    "y_pred = model.predict(X_test)\n",
    "\n",
    "# Оценка производительности модели\n",
    "mse = mean_squared_error(y_test, y_pred)\n",
    "print(f\"Среднеквадратичная ошибка: {mse}\")"
   ]
  },
  {
   "cell_type": "code",
   "execution_count": 25,
   "metadata": {
    "ExecuteTime": {
     "end_time": "2023-11-01T14:21:44.108796422Z",
     "start_time": "2023-11-01T14:21:31.730924678Z"
    }
   },
   "outputs": [
    {
     "name": "stdout",
     "output_type": "stream",
     "text": [
      "Среднеквадратичная ошибка: 0.08927713736492315\n"
     ]
    }
   ],
   "source": [
    "X = df.drop('Number of employees', axis=1)\n",
    "y = df['Number of employees']\n",
    "\n",
    "X_train, X_test, y_train, y_test = train_test_split(X, y, test_size=0.2, random_state=42)\n",
    "\n",
    "\n",
    "rf_model = RandomForestRegressor(n_estimators=100, random_state=42)\n",
    "\n",
    "rf_model.fit(X_train, y_train)\n",
    "\n",
    "y_pred = rf_model.predict(X_test)\n",
    "\n",
    "mse = mean_squared_error(y_test, y_pred)\n",
    "print(f\"Среднеквадратичная ошибка: {mse}\")"
   ]
  }
 ],
 "metadata": {
  "kernelspec": {
   "display_name": "Python 3 (ipykernel)",
   "language": "python",
   "name": "python3"
  },
  "language_info": {
   "codemirror_mode": {
    "name": "ipython",
    "version": 3
   },
   "file_extension": ".py",
   "mimetype": "text/x-python",
   "name": "python",
   "nbconvert_exporter": "python",
   "pygments_lexer": "ipython3",
   "version": "3.9.12"
  }
 },
 "nbformat": 4,
 "nbformat_minor": 4
}
